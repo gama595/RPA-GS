{
 "cells": [
  {
   "cell_type": "markdown",
   "metadata": {},
   "source": [
    "# Global Solution 1 - 2TIAR - AI for RPA"
   ]
  },
  {
   "cell_type": "markdown",
   "metadata": {},
   "source": [
    "## Integrantes:\n",
    "\n",
    "*André Gomes Monteiro      RM: 89168\n",
    "\n",
    "*Larissa Dias Cardomingo RM: 88842\n",
    "\n",
    "*Luara Maria Marino RM: 89375"
   ]
  },
  {
   "cell_type": "markdown",
   "metadata": {},
   "source": [
    "## Investimentos e conversor de moedas\n",
    "De uns anos pra cá, um assunto muito discutido nas redes sociais é investimento. Nesse universo, existem centenas de possibilidades, desde aquelas para públicos que preferem aplicações sem muitos riscos, com baixa rentabilidade, até aquelas que têm mais riscos, mas, em contrapartida, possuem rentabilidade maior. \n",
    "\n",
    "Outra aplicação que tem se tornado interessante, é a compra de moedas de outros países.\n",
    "\n",
    "Seu trabalho aqui, é desenvolver um software que traga informações sobre determinado investimento e conversões de moeda. Escolha 2 investimentos (por exemplo, Tesouro Direto Selic e ETF IVVB11), capture informações do comportamento desses investimentos em 2021 e plot um gráfico de linha, em que o eixo x são os meses e o eixo y, a rentabilidade. Os dois investimentos devem estar no mesmo gráfico. Em um segundo momento, desenvolva uma api, com dois endpoints de POST, em que em um endpoint, será convertido um valor enviado em real para uma moeda da sua escolha e em outro endpoint, será convertido um valor enviado em real para outra moeda da sua escolha.\n",
    "\n",
    "Lembrem-se de deixar o código robusto. Abusem de logs, testes unitários e outros métodos vistos em aula. \n"
   ]
  },
  {
   "cell_type": "markdown",
   "metadata": {},
   "source": [
    "## Instalando dependencias e importando bibliotecas"
   ]
  },
  {
   "cell_type": "code",
   "execution_count": 128,
   "metadata": {},
   "outputs": [],
   "source": [
    "%%capture\n",
    "!pip install plotly\n",
    "!pip install nbformat \n",
    "!pip install --upgrade nbformat\n",
    "!pip install flask"
   ]
  },
  {
   "cell_type": "code",
   "execution_count": 129,
   "metadata": {},
   "outputs": [
    {
     "data": {
      "text/plain": [
       "<module 'logging' from 'd:\\\\anaconda3\\\\lib\\\\logging\\\\__init__.py'>"
      ]
     },
     "execution_count": 129,
     "metadata": {},
     "output_type": "execute_result"
    }
   ],
   "source": [
    "import plotly.express as px\n",
    "import requests\n",
    "import json\n",
    "from flask import Flask, request, render_template\n",
    "import pandas as pd\n",
    "import datetime\n",
    "import plotly.graph_objects as go\n",
    "import plotly\n",
    "import logging\n",
    "from importlib import reload \n",
    "reload(logging)"
   ]
  },
  {
   "cell_type": "markdown",
   "metadata": {},
   "source": [
    "## Criando log para segur passos do usuario"
   ]
  },
  {
   "cell_type": "code",
   "execution_count": 130,
   "metadata": {},
   "outputs": [],
   "source": [
    "logging.basicConfig(filename='app.log', filemode='a',level=0, format='%(levelname)s - %(message)s')\n",
    "logging.info('--- Inicio da aplicacao ---')"
   ]
  },
  {
   "cell_type": "markdown",
   "metadata": {},
   "source": [
    "## Função do conversor de moeda"
   ]
  },
  {
   "cell_type": "code",
   "execution_count": 131,
   "metadata": {},
   "outputs": [],
   "source": [
    "def currencyConverter(currTarget, currOrigin, value):\n",
    "  # Criando variaveis auxiliares\n",
    "  convertKey = currTarget + '-' + currOrigin\n",
    "  convertTag = str(currTarget+currOrigin)\n",
    "  \n",
    "  # Retornando dados da API\n",
    "  response_API = requests.get('https://economia.awesomeapi.com.br/all/{}'.format(convertKey))\n",
    "\n",
    "  # Transformando dados em JSON de acordo com a opção de conversão escolhida\t\n",
    "  try:\n",
    "    currentValue = response_API.json()[convertTag]['bid']\n",
    "  except:\n",
    "    currentValue = response_API.json()[currTarget]['bid']\n",
    "\n",
    "  currentValue = float(currentValue)\n",
    "\n",
    "  logging.info('Usuario fez conversao de {} para {}'.format(currOrigin, currTarget))\n",
    "  return(value * currentValue)"
   ]
  },
  {
   "cell_type": "markdown",
   "metadata": {},
   "source": [
    "## Função para criar o grafico de investimento"
   ]
  },
  {
   "cell_type": "code",
   "execution_count": 132,
   "metadata": {},
   "outputs": [],
   "source": [
    "def getInvestmentData():\n",
    "  #Criando variaveis auxiliares\n",
    "  currencies = ['solana'] + ['binance-coin'] + ['ethereum'] + ['bitcoin']\n",
    "  i = 0\n",
    "  fig = go.Figure()\n",
    "\n",
    "  #Coletando dados via API\n",
    "  for currency in currencies:\n",
    "\n",
    "    #Retornando dados da moeda\n",
    "    url = \"https://api.coincap.io/v2/assets/{}/history?interval=d1&start=1609470000000&end=1640919600000\".format(currency)    \n",
    "    payload = {}    \n",
    "    headers= {}    \n",
    "    response = requests.request(\"GET\", url, headers=headers, data = payload)\n",
    "    json_data = json.loads(response.text.encode('utf8'))\n",
    "    groups = json_data[\"data\"]\n",
    "\n",
    "    #Retornando tag da moeda\n",
    "    tag_url = \"https://api.coincap.io/v2/assets/{}\".format(currency)\n",
    "    tag_payload = {}\n",
    "    tag_headers= {}\n",
    "    tag_response = requests.request(\"GET\", tag_url, headers=tag_headers, data = tag_payload)\n",
    "    tag_json_data = json.loads(tag_response.text.encode('utf8'))\n",
    "    curr_tag = tag_json_data[\"data\"][\"symbol\"] + \" - {}\".format(currency.capitalize())\n",
    "    \n",
    "    #Criando um dataframe para moeda e tratando dados\n",
    "    df = pd.DataFrame(groups)\n",
    "    df = df.drop(columns=['time'])\n",
    "    df['priceUsd'] = df['priceUsd'].astype(float)\n",
    "    df['priceUsd'] = df['priceUsd'].round(2)\n",
    "    df['date'] = pd.to_datetime(df['date'], format = '%Y-%m-%d')\n",
    "    df['date'] = df['date'].dt.date\n",
    "\n",
    "    #Definindo a visibilidade no grafico\n",
    "    vis = True if i<2 else 'legendonly'\n",
    "\n",
    "    #Adicionando ao grafico\n",
    "    fig.add_trace(go.Scatter(\n",
    "      x=df['date'],\n",
    "      y=df['priceUsd'],\n",
    "      visible=vis,\n",
    "      name=curr_tag\n",
    "    ))\n",
    "    i+=1\n",
    "\n",
    "  logging.info('Grafico gerado com sucesso')\n",
    "  #Retornando um Json do grafico\n",
    "  return(json.dumps(fig, cls=plotly.utils.PlotlyJSONEncoder))"
   ]
  },
  {
   "cell_type": "markdown",
   "metadata": {},
   "source": [
    "## API"
   ]
  },
  {
   "cell_type": "markdown",
   "metadata": {},
   "source": [
    "#### Corpo base do html"
   ]
  },
  {
   "cell_type": "code",
   "execution_count": 144,
   "metadata": {},
   "outputs": [],
   "source": [
    "html_base = '''\n",
    "<!DOCTYPE html>\n",
    "      <html>\n",
    "      <head>\n",
    "        <meta charset=\"UTF-8\" />\n",
    "        <meta http-equiv=\"X-UA-Compatible\" content=\"IE=edge\" />\n",
    "        <meta name=\"viewport\" content=\"width=device-width, initial-scale=1.0\" />\n",
    "        <link rel=\"stylesheet\" href=\"/style.css\">\n",
    "        <title>Seus Investimentos</title>\n",
    "        <script src=\"https://cdn.plot.ly/plotly-2.12.1.min.js\"></script>\n",
    "      </head>\n",
    "      <body style=\"margin: 2rem\">   \n",
    "        <h1>Seus Investimentos</h1>     \n",
    "        <div id=\"chart\"></div>\n",
    "        <figcaption style=\"padding-bottom: 2rem; text-align: center\">Clique no nome da moeda para ver seu historico no gráfico(Valor em Dolar)</figcaption>     \n",
    "\n",
    "        <div id=\"content\" style= \"align-items: center; display: flex; justify-content: center; flex-direction: column\">\n",
    "          <h2>Conversor de moeda</h2>\n",
    "'''"
   ]
  },
  {
   "cell_type": "markdown",
   "metadata": {},
   "source": [
    "#### Core API"
   ]
  },
  {
   "cell_type": "code",
   "execution_count": 145,
   "metadata": {},
   "outputs": [
    {
     "name": "stderr",
     "output_type": "stream",
     "text": [
      "127.0.0.1 - - [08/Jun/2022 18:18:24] \"\u001b[37mGET /investimento HTTP/1.1\u001b[0m\" 200 -\n"
     ]
    },
    {
     "name": "stdout",
     "output_type": "stream",
     "text": [
      " * Serving Flask app \"__main__\" (lazy loading)\n",
      " * Environment: production\n",
      "   WARNING: This is a development server. Do not use it in a production deployment.\n",
      "   Use a production WSGI server instead.\n",
      " * Debug mode: off\n"
     ]
    },
    {
     "name": "stderr",
     "output_type": "stream",
     "text": [
      " * Running on http://0.0.0.0:5051/ (Press CTRL+C to quit)\n",
      "127.0.0.1 - - [08/Jun/2022 18:18:26] \"\u001b[33mGET /style.css HTTP/1.1\u001b[0m\" 404 -\n"
     ]
    }
   ],
   "source": [
    "app = Flask(__name__)\n",
    "\n",
    "#Chamando Json do grafico\n",
    "graphJSON = getInvestmentData()\n",
    "  \n",
    "# Metodo Get\n",
    "# Responsavel por retornar o html_base com o grafico e o formulario de conversor de moedas\n",
    "@app.route(\"/investimento\", methods=[\"GET\"])\n",
    "def investimento():  \n",
    "    logging.info('Pagina investimento carregada')\n",
    "    return '''\n",
    "      {}\n",
    "          <label for=\"curr\" style=\"margin: 0.5rem;\">Escolha a moeda</label>\n",
    "          <select name=\"currList\" form=\"currConv\">\n",
    "            <option value=\"USD\">Dólar</option>\n",
    "            <option value=\"EUR\">Euro</option>\n",
    "            <option value=\"GBP\">Libra</option>\n",
    "            <option value=\"JPY\">Iene</option>\n",
    "            <option value=\"CAD\">Dólar Canadense</option>\n",
    "            <option value=\"AUD\">Dólar Australiano</option>\n",
    "            <option value=\"CHF\">Franco Suiço</option>\n",
    "          </select>\n",
    "\n",
    "          <form action=\"/investimento/curr_converter\" method=\"POST\" id=\"currConv\" style=\"display: flex; flex-direction: column; margin: 0.5rem;\">\n",
    "            <input type=\"text\" name=\"value\" placeholder=\"Valor\" style=\"margin: 0.5rem;\"/>\n",
    "            <input type=\"submit\" name=\"submit_button\" value=\"Converter de real\" style=\"margin: 0.5rem;\"/>\n",
    "            <input type=\"submit\" name=\"submit_button\" value=\"Converter para real\" style=\"margin: 0.5rem;\"/>\n",
    "          </form>\n",
    "        </div>\n",
    "      </body>\n",
    "      <script>\n",
    "        var data = {};\n",
    "        Plotly.newPlot(\"chart\", data)\n",
    "      </script>\n",
    "    </html>\n",
    "    '''.format(html_base, graphJSON)\n",
    "\n",
    "#Metodo POST\n",
    "#Recebe o valor e a moeda e retorna o valor convertido ou erro \n",
    "@app.route(\"/investimento/curr_converter\", methods=[\"POST\"])\n",
    "def converter():\n",
    "    logging.info('Endpoint de conversor de moeda chamado')\n",
    "    try:\n",
    "        if request.form['submit_button'] == 'Converter de real':            \n",
    "            curr_converted = currencyConverter('BRL', request.form['currList'], float(request.form['value']))\n",
    "\n",
    "            return '''\n",
    "            {}\n",
    "                <h3>Valor convertido: {} {:.2f}</h3>\n",
    "                <button onclick=\"history.back()\">Voltar</button>\n",
    "            </div>\n",
    "            </body>\n",
    "            <script>\n",
    "              var data = {};\n",
    "              Plotly.newPlot(\"chart\", data)\n",
    "            </script>\n",
    "          </html>\n",
    "            '''.format(html_base, request.form['currList'], curr_converted, graphJSON)\n",
    "\n",
    "        elif request.form['submit_button'] == 'Converter para real':\n",
    "            curr_converted = currencyConverter(request.form['currList'], 'BRL', float(request.form['value']))\n",
    "\n",
    "            return '''\n",
    "            {}\n",
    "                  <h3>Valor convertido: {} {:.2f}</h3>\n",
    "                  <button onclick=\"history.back()\">Voltar</button>\n",
    "              </div>\n",
    "              </body>\n",
    "              <script>\n",
    "                var data = {};\n",
    "                Plotly.newPlot(\"chart\", data)\n",
    "              </script>\n",
    "            </html>\n",
    "            '''.format(html_base, 'BRL', curr_converted, graphJSON)\n",
    "\n",
    "    except:\n",
    "        logging.warning('Usuario inseriu valores invalidos no conversor de moedas')\n",
    "        return '''\n",
    "        {}\n",
    "            <h3>Valor inválido!</h3>\n",
    "            <button onclick=\"history.back()\">Voltar</button>\n",
    "          </div>\n",
    "        </body>\n",
    "          <script>\n",
    "            var data = {};\n",
    "            Plotly.newPlot(\"chart\", data)\n",
    "          </script>\n",
    "        </html>\n",
    "        '''.format(html_base, graphJSON)\n",
    "\n",
    "  \n",
    "if __name__ == \"__main__\":\n",
    "    app.run(host='0.0.0.0', port=5051)"
   ]
  }
 ],
 "metadata": {
  "interpreter": {
   "hash": "49cb93f377a7abe7414b7b0f21fb3017538004a126cf690fb524202736b7fb92"
  },
  "kernelspec": {
   "display_name": "Python 3.8.8 ('base')",
   "language": "python",
   "name": "python3"
  },
  "language_info": {
   "codemirror_mode": {
    "name": "ipython",
    "version": 3
   },
   "file_extension": ".py",
   "mimetype": "text/x-python",
   "name": "python",
   "nbconvert_exporter": "python",
   "pygments_lexer": "ipython3",
   "version": "3.8.8"
  },
  "orig_nbformat": 4
 },
 "nbformat": 4,
 "nbformat_minor": 2
}
